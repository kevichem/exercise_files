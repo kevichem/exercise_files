{
 "cells": [
  {
   "attachments": {},
   "cell_type": "markdown",
   "id": "48f2163c",
   "metadata": {},
   "source": [
    "## Factorial Challenge\n",
    "\n",
    "The factorial function gives the number of possible arrangements of a set of items of length \"n\"\n",
    "\n",
    "For example, there are 4! (\"four factorial\") or 24 ways to arrange four items, which can be calculated as: \n",
    "4 \\* 3 \\* 2 \\* 1\n",
    "\n",
    "5! = 5 \\* 4 \\* 3 \\* 2 \\* 1 = 120\n",
    "\n",
    "6! = 6 \\* 5 \\* 4 \\* 3 \\* 2 \\* 1 = 720\n",
    "\n",
    "etc.\n",
    "\n",
    "In a set of 0 items (an empty set) there is only one way to arrange the items, therefore, 0! = 1\n",
    "\n",
    "For the purposes of this exercise, factorials are only defined for **positive integers** (including 0)\n",
    "\n"
   ]
  },
  {
   "attachments": {},
   "cell_type": "markdown",
   "id": "76c229aa",
   "metadata": {},
   "source": [
    "### Challenge Hints!"
   ]
  },
  {
   "attachments": {},
   "cell_type": "markdown",
   "id": "102ebdab",
   "metadata": {},
   "source": [
    "**HINT 1:** You can figure out whether a variable is of a certain type in the following way:\n"
   ]
  },
  {
   "cell_type": "code",
   "execution_count": 85,
   "id": "df2ebdca",
   "metadata": {
    "scrolled": true
   },
   "outputs": [
    {
     "name": "stdout",
     "output_type": "stream",
     "text": [
      "myVar is an integer!\n"
     ]
    }
   ],
   "source": [
    "myVar = 1\n",
    "\n",
    "if type(myVar) == int:\n",
    "    print('myVar is an integer!')\n",
    "\n",
    "if type(myVar) != int:\n",
    "    print('myVar is NOT an integer!')"
   ]
  },
  {
   "attachments": {},
   "cell_type": "markdown",
   "id": "77f06600",
   "metadata": {},
   "source": [
    "**HINT 2:** You can create a while loop and manipulate multiple variables inside of it:"
   ]
  },
  {
   "cell_type": "code",
   "execution_count": 86,
   "id": "6ac23a6d",
   "metadata": {},
   "outputs": [
    {
     "data": {
      "text/plain": [
       "66"
      ]
     },
     "execution_count": 86,
     "metadata": {},
     "output_type": "execute_result"
    }
   ],
   "source": [
    "# This prints the sum of all of the numbers from 1 to 10\n",
    "i = 0\n",
    "s = 0\n",
    "while i < 11:\n",
    "    i = i + 1\n",
    "    s = s + i\n",
    "\n",
    "s"
   ]
  },
  {
   "attachments": {},
   "cell_type": "markdown",
   "id": "c058630b",
   "metadata": {},
   "source": [
    "**HINT 3:** Alternatively, a function can call itself! This is called \"recursion\" This also returns the sum of all numbers from 0 to 10:\n"
   ]
  },
  {
   "cell_type": "code",
   "execution_count": 167,
   "id": "5258f5da",
   "metadata": {},
   "outputs": [
    {
     "data": {
      "text/plain": [
       "55"
      ]
     },
     "execution_count": 167,
     "metadata": {},
     "output_type": "execute_result"
    }
   ],
   "source": [
    "def addNumbers(i):\n",
    "    if i == 0:\n",
    "        return 0\n",
    "    return i + addNumbers(i - 1)\n",
    "        \n",
    "addNumbers(10)"
   ]
  },
  {
   "cell_type": "code",
   "execution_count": 196,
   "id": "639d12f4",
   "metadata": {},
   "outputs": [
    {
     "name": "stdout",
     "output_type": "stream",
     "text": [
      "factorial() called with n = 40\n",
      "factorial() called with n = 39\n",
      "factorial() called with n = 38\n",
      "factorial() called with n = 37\n",
      "factorial() called with n = 36\n",
      "factorial() called with n = 35\n",
      "factorial() called with n = 34\n",
      "factorial() called with n = 33\n",
      "factorial() called with n = 32\n",
      "factorial() called with n = 31\n",
      "factorial() called with n = 30\n",
      "factorial() called with n = 29\n",
      "factorial() called with n = 28\n",
      "factorial() called with n = 27\n",
      "factorial() called with n = 26\n",
      "factorial() called with n = 25\n",
      "factorial() called with n = 24\n",
      "factorial() called with n = 23\n",
      "factorial() called with n = 22\n",
      "factorial() called with n = 21\n",
      "factorial() called with n = 20\n",
      "factorial() called with n = 19\n",
      "factorial() called with n = 18\n",
      "factorial() called with n = 17\n",
      "factorial() called with n = 16\n",
      "factorial() called with n = 15\n",
      "factorial() called with n = 14\n",
      "factorial() called with n = 13\n",
      "factorial() called with n = 12\n",
      "factorial() called with n = 11\n",
      "factorial() called with n = 10\n",
      "factorial() called with n = 9\n",
      "factorial() called with n = 8\n",
      "factorial() called with n = 7\n",
      "factorial() called with n = 6\n",
      "factorial() called with n = 5\n",
      "factorial() called with n = 4\n",
      "factorial() called with n = 3\n",
      "factorial() called with n = 2\n",
      "factorial() called with n = 1\n",
      "-> factorial(1) returns 1\n",
      "-> factorial(2) returns 2\n",
      "-> factorial(3) returns 6\n",
      "-> factorial(4) returns 24\n",
      "-> factorial(5) returns 120\n",
      "-> factorial(6) returns 720\n",
      "-> factorial(7) returns 5040\n",
      "-> factorial(8) returns 40320\n",
      "-> factorial(9) returns 362880\n",
      "-> factorial(10) returns 3628800\n",
      "-> factorial(11) returns 39916800\n",
      "-> factorial(12) returns 479001600\n",
      "-> factorial(13) returns 6227020800\n",
      "-> factorial(14) returns 87178291200\n",
      "-> factorial(15) returns 1307674368000\n",
      "-> factorial(16) returns 20922789888000\n",
      "-> factorial(17) returns 355687428096000\n",
      "-> factorial(18) returns 6402373705728000\n",
      "-> factorial(19) returns 121645100408832000\n",
      "-> factorial(20) returns 2432902008176640000\n",
      "-> factorial(21) returns 51090942171709440000\n",
      "-> factorial(22) returns 1124000727777607680000\n",
      "-> factorial(23) returns 25852016738884976640000\n",
      "-> factorial(24) returns 620448401733239439360000\n",
      "-> factorial(25) returns 15511210043330985984000000\n",
      "-> factorial(26) returns 403291461126605635584000000\n",
      "-> factorial(27) returns 10888869450418352160768000000\n",
      "-> factorial(28) returns 304888344611713860501504000000\n",
      "-> factorial(29) returns 8841761993739701954543616000000\n",
      "-> factorial(30) returns 265252859812191058636308480000000\n",
      "-> factorial(31) returns 8222838654177922817725562880000000\n",
      "-> factorial(32) returns 263130836933693530167218012160000000\n",
      "-> factorial(33) returns 8683317618811886495518194401280000000\n",
      "-> factorial(34) returns 295232799039604140847618609643520000000\n",
      "-> factorial(35) returns 10333147966386144929666651337523200000000\n",
      "-> factorial(36) returns 371993326789901217467999448150835200000000\n",
      "-> factorial(37) returns 13763753091226345046315979581580902400000000\n",
      "-> factorial(38) returns 523022617466601111760007224100074291200000000\n",
      "-> factorial(39) returns 20397882081197443358640281739902897356800000000\n",
      "-> factorial(40) returns 815915283247897734345611269596115894272000000000\n"
     ]
    },
    {
     "data": {
      "text/plain": [
       "815915283247897734345611269596115894272000000000"
      ]
     },
     "execution_count": 196,
     "metadata": {},
     "output_type": "execute_result"
    }
   ],
   "source": [
    "def factorial(n):\n",
    "    print(f\"factorial() called with n = {n}\")\n",
    "    return_value = 1 if n <= 1 else n * factorial(n - 1)\n",
    "    print(f\"-> factorial({n}) returns {return_value}\")\n",
    "    return return_value\n",
    "\n",
    "\n",
    "\n",
    "factorial(40)"
   ]
  },
  {
   "cell_type": "code",
   "execution_count": 197,
   "id": "92af0386",
   "metadata": {},
   "outputs": [],
   "source": [
    "# Returns the value of the factorial of num if it is defined, otherwise, returns None\n",
    "def factorial(num):\n",
    "    pass\n"
   ]
  },
  {
   "cell_type": "code",
   "execution_count": 198,
   "id": "1d10be7a",
   "metadata": {},
   "outputs": [],
   "source": [
    "factorial(5)"
   ]
  },
  {
   "cell_type": "code",
   "execution_count": 199,
   "id": "c43845c1",
   "metadata": {},
   "outputs": [],
   "source": [
    "factorial(0)"
   ]
  },
  {
   "cell_type": "code",
   "execution_count": 200,
   "id": "8f605415",
   "metadata": {},
   "outputs": [],
   "source": [
    "factorial(-2)"
   ]
  },
  {
   "cell_type": "code",
   "execution_count": 201,
   "id": "5b973ff0",
   "metadata": {},
   "outputs": [],
   "source": [
    "factorial(1.2)"
   ]
  },
  {
   "cell_type": "code",
   "execution_count": 202,
   "id": "67f07cca",
   "metadata": {},
   "outputs": [],
   "source": [
    "factorial('spam spam spam spam spam spam')"
   ]
  },
  {
   "cell_type": "code",
   "execution_count": null,
   "id": "714148cd",
   "metadata": {},
   "outputs": [],
   "source": []
  }
 ],
 "metadata": {
  "kernelspec": {
   "display_name": "Python 3 (ipykernel)",
   "language": "python",
   "name": "python3"
  },
  "language_info": {
   "codemirror_mode": {
    "name": "ipython",
    "version": 3
   },
   "file_extension": ".py",
   "mimetype": "text/x-python",
   "name": "python",
   "nbconvert_exporter": "python",
   "pygments_lexer": "ipython3",
   "version": "3.11.3"
  }
 },
 "nbformat": 4,
 "nbformat_minor": 5
}
